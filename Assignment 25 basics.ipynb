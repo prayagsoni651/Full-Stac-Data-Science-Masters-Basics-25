{
 "cells": [
  {
   "cell_type": "code",
   "execution_count": 2,
   "id": "73c87022",
   "metadata": {},
   "outputs": [
    {
     "name": "stdout",
     "output_type": "stream",
     "text": [
      "[1, 4, 9, 16, 25]\n",
      "<generator object <genexpr> at 0x000001603DAE8D40>\n",
      "[1, 4, 9, 16, 25]\n"
     ]
    }
   ],
   "source": [
    "'''\n",
    "1) . What is the difference between enclosing a list comprehension in square brackets and\n",
    "parentheses?\n",
    "\n",
    "'''\n",
    "\n",
    "numbers = [1, 2, 3, 4, 5]\n",
    "squared_numbers = [x ** 2 for x in numbers]\n",
    "print(squared_numbers)  # Output: [1, 4, 9, 16, 25]\n",
    "\n",
    "\n",
    "\n",
    "\n",
    "numbers = [1, 2, 3, 4, 5]\n",
    "squared_numbers_generator = (x ** 2 for x in numbers)\n",
    "print(squared_numbers_generator)  # Output: <generator object <genexpr> at 0x7fb57278c0b0>\n",
    "print(list(squared_numbers_generator))  # Output: [1, 4, 9, 16, 25]\n"
   ]
  },
  {
   "cell_type": "code",
   "execution_count": 3,
   "id": "ed64b63c",
   "metadata": {},
   "outputs": [
    {
     "data": {
      "text/plain": [
       "\"\\nGenerators:\\n\\nGenerators are a type of iterable that allow you to define functions that behave like iterators. They are defined using a special syntax with the yield keyword.\\nGenerators produce a sequence of values lazily, on-the-fly, as they are requested, rather than computing and storing all values upfront in memory.\\nGenerator functions can yield multiple values one at a time using yield statements. Each time a value is yielded, the function's state is suspended, allowing it to be resumed later.\\nGenerator expressions provide a concise way to create generator objects using a syntax similar to list comprehensions, but enclosed in parentheses.\\nIterators:\\n\\nIterators are objects that implement the iterator protocol, which consists of two methods: __iter__() and __next__().\\nAn iterator is an object that represents a stream of data and can be iterated over, one item at a time, using a for loop or by calling the next() function.\\nIterators maintain their internal state and remember their position in the sequence, allowing them to produce the next item on demand.\\nRelationship:\\n\\nGenerators are Iterators:\\n\\nGenerators are a specific type of iterator. Any object created using a generator function or a generator expression is an iterator.\\nGenerator objects implement both the iterator protocol and the generator protocol, allowing them to be used in places where iterators are expected.\\nIterators are not necessarily Generators:\\n\\nWhile generators are iterators, not all iterators are generators. Iterators can be created using other techniques, such as defining custom classes that implement the iterator protocol.\\n\\n\""
      ]
     },
     "execution_count": 3,
     "metadata": {},
     "output_type": "execute_result"
    }
   ],
   "source": [
    "'''\n",
    "2) What is the relationship between generators and iterators?\n",
    "\n",
    "'''\n",
    "\n",
    "\n",
    "'''\n",
    "Generators:\n",
    "\n",
    "Generators are a type of iterable that allow you to define functions that behave like iterators. They are defined using a special syntax with the yield keyword.\n",
    "Generators produce a sequence of values lazily, on-the-fly, as they are requested, rather than computing and storing all values upfront in memory.\n",
    "Generator functions can yield multiple values one at a time using yield statements. Each time a value is yielded, the function's state is suspended, allowing it to be resumed later.\n",
    "Generator expressions provide a concise way to create generator objects using a syntax similar to list comprehensions, but enclosed in parentheses.\n",
    "Iterators:\n",
    "\n",
    "Iterators are objects that implement the iterator protocol, which consists of two methods: __iter__() and __next__().\n",
    "An iterator is an object that represents a stream of data and can be iterated over, one item at a time, using a for loop or by calling the next() function.\n",
    "Iterators maintain their internal state and remember their position in the sequence, allowing them to produce the next item on demand.\n",
    "Relationship:\n",
    "\n",
    "Generators are Iterators:\n",
    "\n",
    "Generators are a specific type of iterator. Any object created using a generator function or a generator expression is an iterator.\n",
    "Generator objects implement both the iterator protocol and the generator protocol, allowing them to be used in places where iterators are expected.\n",
    "Iterators are not necessarily Generators:\n",
    "\n",
    "While generators are iterators, not all iterators are generators. Iterators can be created using other techniques, such as defining custom classes that implement the iterator protocol.\n",
    "\n",
    "'''\n",
    "\n",
    "\n",
    "\n"
   ]
  },
  {
   "cell_type": "code",
   "execution_count": 4,
   "id": "00e32619",
   "metadata": {},
   "outputs": [
    {
     "name": "stdout",
     "output_type": "stream",
     "text": [
      "1\n",
      "2\n",
      "3\n",
      "4\n",
      "5\n"
     ]
    }
   ],
   "source": [
    "'''\n",
    "3) What are the signs that a function is a generator function?\n",
    "\n",
    "'''\n",
    "def count_up_to(n):\n",
    "    count = 1\n",
    "    while count <= n:\n",
    "        yield count\n",
    "        count += 1\n",
    "\n",
    "# Calling the generator function returns a generator object\n",
    "counter = count_up_to(5)\n",
    "\n",
    "# Iterating over the generator object produces values lazily\n",
    "for number in counter:\n",
    "    print(number)\n",
    "\n"
   ]
  },
  {
   "cell_type": "code",
   "execution_count": 5,
   "id": "c1b9ff34",
   "metadata": {},
   "outputs": [
    {
     "name": "stdout",
     "output_type": "stream",
     "text": [
      "1\n",
      "2\n",
      "3\n",
      "4\n",
      "5\n"
     ]
    }
   ],
   "source": [
    "'''\n",
    "\n",
    "4) What is the purpose of a yield statement?\n",
    "\n",
    "'''\n",
    "def count_up_to(n):\n",
    "    count = 1\n",
    "    while count <= n:\n",
    "        yield count\n",
    "        count += 1\n",
    "\n",
    "# Calling the generator function returns a generator object\n",
    "counter = count_up_to(5)\n",
    "\n",
    "# Iterating over the generator object produces values lazily\n",
    "for number in counter:\n",
    "    print(number)\n"
   ]
  },
  {
   "cell_type": "code",
   "execution_count": 6,
   "id": "ea7dfa9a",
   "metadata": {},
   "outputs": [
    {
     "data": {
      "text/plain": [
       "\"Purpose:\\n\\nmap: The map function applies a given function to each item of an iterable (such as a list) and returns an iterator that yields the results.\\nList Comprehensions: List comprehensions provide a concise way to create lists by applying an expression to each item in an iterable and collecting the results.\\nSyntax:\\n\\nmap: The map function takes two arguments: the function to apply and the iterable to apply it to. It is often used in conjunction with lambda functions.\\nList Comprehensions: List comprehensions consist of an expression followed by a for clause, optionally followed by additional for or if clauses.\\nReadability:\\n\\nmap: While map calls can be concise when used with lambda functions, they can sometimes be less readable, especially for complex operations.\\nList Comprehensions: List comprehensions are generally considered more readable and Pythonic, as they allow you to express the transformation of data more directly and clearly.\\nFunctionality:\\n\\nmap: The map function only applies to one iterable at a time and does not support multiple iterables or filtering elements based on conditions.\\nList Comprehensions: List comprehensions offer more flexibility and can handle multiple iterables and conditional expressions. They can also be used to filter elements from the original iterable.\\nPerformance:\\n\\nmap: While performance differences may be negligible for small datasets, map may offer slightly better performance in some cases, as it operates at the C level and can be more memory-efficient.\\nList Comprehensions: List comprehensions are generally faster than equivalent for loops due to their optimized implementation in Python.\\nUse Cases:\\n\\nmap: map is suitable for simple cases where you want to apply a function to every element of a single iterable.\\nList Comprehensions: List comprehensions are more versatile and can handle a wider range of scenarios, including multiple iterables, filtering, and more complex transformations.''\""
      ]
     },
     "execution_count": 6,
     "metadata": {},
     "output_type": "execute_result"
    }
   ],
   "source": [
    "'''\n",
    "5) What is the relationship between map calls and list comprehensions? Make a comparison and\n",
    "contrast between the two.\n",
    "\n",
    "'''\n",
    "\n",
    "\"\"\"Purpose:\n",
    "\n",
    "map: The map function applies a given function to each item of an iterable (such as a list) and returns an iterator that yields the results.\n",
    "List Comprehensions: List comprehensions provide a concise way to create lists by applying an expression to each item in an iterable and collecting the results.\n",
    "Syntax:\n",
    "\n",
    "map: The map function takes two arguments: the function to apply and the iterable to apply it to. It is often used in conjunction with lambda functions.\n",
    "List Comprehensions: List comprehensions consist of an expression followed by a for clause, optionally followed by additional for or if clauses.\n",
    "Readability:\n",
    "\n",
    "map: While map calls can be concise when used with lambda functions, they can sometimes be less readable, especially for complex operations.\n",
    "List Comprehensions: List comprehensions are generally considered more readable and Pythonic, as they allow you to express the transformation of data more directly and clearly.\n",
    "Functionality:\n",
    "\n",
    "map: The map function only applies to one iterable at a time and does not support multiple iterables or filtering elements based on conditions.\n",
    "List Comprehensions: List comprehensions offer more flexibility and can handle multiple iterables and conditional expressions. They can also be used to filter elements from the original iterable.\n",
    "Performance:\n",
    "\n",
    "map: While performance differences may be negligible for small datasets, map may offer slightly better performance in some cases, as it operates at the C level and can be more memory-efficient.\n",
    "List Comprehensions: List comprehensions are generally faster than equivalent for loops due to their optimized implementation in Python.\n",
    "Use Cases:\n",
    "\n",
    "map: map is suitable for simple cases where you want to apply a function to every element of a single iterable.\n",
    "List Comprehensions: List comprehensions are more versatile and can handle a wider range of scenarios, including multiple iterables, filtering, and more complex transformations.''\"\"\""
   ]
  },
  {
   "cell_type": "code",
   "execution_count": null,
   "id": "b3dc9dfe",
   "metadata": {},
   "outputs": [],
   "source": []
  }
 ],
 "metadata": {
  "kernelspec": {
   "display_name": "Python 3 (ipykernel)",
   "language": "python",
   "name": "python3"
  },
  "language_info": {
   "codemirror_mode": {
    "name": "ipython",
    "version": 3
   },
   "file_extension": ".py",
   "mimetype": "text/x-python",
   "name": "python",
   "nbconvert_exporter": "python",
   "pygments_lexer": "ipython3",
   "version": "3.11.5"
  }
 },
 "nbformat": 4,
 "nbformat_minor": 5
}
